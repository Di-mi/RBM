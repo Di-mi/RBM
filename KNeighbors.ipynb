{
 "cells": [
  {
   "cell_type": "code",
   "execution_count": 259,
   "metadata": {
    "collapsed": false
   },
   "outputs": [],
   "source": [
    "import sys\n",
    "import pandas as pd\n",
    "import sklearn\n",
    "from sklearn.cross_validation import train_test_split\n",
    "from sklearn.naive_bayes import GaussianNB\n",
    "from sklearn.metrics import homogeneity_score,completeness_score,v_measure_score,accuracy_score\n",
    "from sklearn.ensemble import ExtraTreesClassifier\n",
    "from sklearn.linear_model import LogisticRegression\n",
    "from sklearn.preprocessing import MinMaxScaler\n",
    "from copy import deepcopy\n",
    "from sklearn.neighbors import KNeighborsClassifier\n",
    "\n",
    "from sklearn.feature_selection import RFE\n",
    "\n",
    "TRAIN_TEST_RATIO = 0.25"
   ]
  },
  {
   "cell_type": "code",
   "execution_count": null,
   "metadata": {
    "collapsed": true
   },
   "outputs": [],
   "source": []
  },
  {
   "cell_type": "code",
   "execution_count": 260,
   "metadata": {
    "collapsed": false
   },
   "outputs": [
    {
     "name": "stdout",
     "output_type": "stream",
     "text": [
      "358\n",
      "338\n"
     ]
    },
    {
     "data": {
      "text/plain": [
       "0    2\n",
       "1    1\n",
       "2    3\n",
       "3    1\n",
       "4    3\n",
       "Name: des_class, dtype: int64"
      ]
     },
     "execution_count": 260,
     "metadata": {},
     "output_type": "execute_result"
    }
   ],
   "source": [
    "\n",
    "data = pd.read_csv('dermatology.data.txt', sep=\",\", header = None)\n",
    "\n",
    "# [1-11,34] podaci pre analiza\n",
    "# [12-33] podaci nakon analiza\n",
    "data.columns = cols = [\"erythema\", \"scaling\", \"definite borders\", \"itching\",\"koebner phenomenon\",\n",
    "                \"polygonal papules\",\"follicular papules\",\"oral mucosal involvement\",\"knee and elbow involvement\",\n",
    "                \"scalp involvement\",\"family history\",\"melanin incontinence\",\"eosinophils in the infiltrate\",\"PNL infiltrate\",\n",
    "                \"fibrosis of the papillary dermis\",\"exocytosis\",\"acanthosis\",\"hyperkeratosis\",\"parakeratosis\",\"clubbing of the rete ridges\",\n",
    "               \"elongation of the rete ridges\",\"thinning of the suprapapillary epidermis\",\"spongiform pustule\",\"munro microabcess\",\"focal hypergranulosis\",\n",
    "               \"disappearance of the granular layer\",\"vacuolisation and damage of basal layer\",\"spongiosis\",\"saw-tooth appearance of retes\",\"follicular horn plug\",\n",
    "               \"perifollicular parakeratosis\",\"inflammatory monoluclear inflitrate\",\"band-like infiltrate\",\"Age\",\"des_class\"]\n",
    "\n",
    "# data.head()\n",
    "\n",
    "#izbaciti redove koje sadrze '?' u koloni za godine\n",
    "# print(len(data))\n",
    "data = data[data.Age != '?']\n",
    "print(len(data))\n",
    "data = data[data.des_class != 6]\n",
    "print(len(data))\n",
    "\n",
    "#izbaciti godine za probu\n",
    "\n",
    "# data = data.drop('Age',1)\n",
    "\n",
    "\n",
    "results = data['des_class']\n",
    "\n",
    "#normalize\n",
    "\n",
    "\n",
    "\n",
    "\n",
    "cols = data.columns\n",
    "\n",
    "min_max_scaler = MinMaxScaler()\n",
    "np_scaled = min_max_scaler.fit_transform(data)\n",
    "data = pd.DataFrame(np_scaled)\n",
    "\n",
    "\n",
    "data.columns = cols\n",
    "\n",
    "attributes = data.drop('des_class',1)\n",
    "results.head()\n",
    "# print(attributes[attributes.columns[1]])\n",
    "# attributes.head()\n",
    "# print(len(results))"
   ]
  },
  {
   "cell_type": "code",
   "execution_count": 261,
   "metadata": {
    "collapsed": false
   },
   "outputs": [
    {
     "name": "stdout",
     "output_type": "stream",
     "text": [
      "253 - 85\n"
     ]
    }
   ],
   "source": [
    "\n",
    "train_data, test_data,train_results,test_results = train_test_split(attributes, results ,test_size=TRAIN_TEST_RATIO)\n",
    "\n",
    "\n",
    "print('%d - %d' % (len(train_results), len(test_results)))\n"
   ]
  },
  {
   "cell_type": "code",
   "execution_count": 262,
   "metadata": {
    "collapsed": false
   },
   "outputs": [
    {
     "name": "stdout",
     "output_type": "stream",
     "text": [
      "[  4.68309305e-03   7.74236112e-03   7.70051879e-03   1.74133557e-02\n",
      "   3.23842409e-02   3.79291694e-02   1.61749059e-03   1.92632658e-02\n",
      "   2.35262550e-02   2.30522416e-02   1.77352734e-03   3.79207963e-02\n",
      "   6.85572643e-03   2.50596105e-02   7.21634388e-02   2.57989517e-02\n",
      "   5.16180670e-03   3.34650060e-03   7.93725062e-03   6.84607545e-02\n",
      "   5.43300408e-02   5.90336569e-02   8.92872877e-03   1.68806837e-02\n",
      "   1.99900341e-02   1.84584980e-02   4.08432999e-02   5.56594594e-02\n",
      "   3.73913153e-02   2.16820492e-04   2.43506200e-05   3.00899462e-03\n",
      "   5.38352645e-02   3.14592926e-03   1.98462568e-01]\n",
      "10\n",
      "[False False False False  True  True False False False False False False\n",
      " False False  True False False False False  True  True  True False False\n",
      " False False False  True  True False False False  True False  True]\n",
      "[16  5 14  2  1  1 21  8 10 12 24  9 13  3  1  6 15 23 22  1  1  1 19 17 11\n",
      "  7  4  1  1 25 26 18  1 20  1]\n",
      "35\n"
     ]
    }
   ],
   "source": [
    "#izbaciti atrbiute dobijene biopsijom\n",
    "# for i in range(12,33):\n",
    "#     train_data = train_data.drop(cols[i],1)\n",
    "#     test_data = test_data.drop(cols[i],1)\n",
    "\n",
    "# naci najbitinije feature\n",
    "model = ExtraTreesClassifier(n_estimators=250)\n",
    "model.fit(data, results)\n",
    "print(model.feature_importances_)\n",
    "# cols = deepcopy(train_data.columns)\n",
    "# print(len(cols))\n",
    "# for idx,elem in enumerate(model.feature_importances_):\n",
    "    \n",
    "#     if float(elem) < float(0.01):\n",
    "#         print(cols[idx])\n",
    "       \n",
    "#         train_data = train_data.drop(cols[idx],1)\n",
    "#         test_data = test_data.drop(cols[idx],1)\n",
    "\n",
    "\n",
    "model = LogisticRegression()\n",
    "rfe = RFE(model, 10)\n",
    "fit = rfe.fit(data, results)\n",
    "print(fit.n_features_)\n",
    "print(fit.support_)\n",
    "print(fit.ranking_)\n",
    "\n",
    "cols = deepcopy(data.columns)\n",
    "\n",
    "print(len(cols))\n",
    "\n",
    "# for idx,elem in enumerate(fit.support_):\n",
    "    \n",
    "#     if not elem:\n",
    "#         print(elem)\n",
    "#         print(idx)\n",
    "#         print(cols[idx])\n",
    "       \n",
    "#         train_data = train_data.drop(cols[idx],1)\n",
    "#         test_data = test_data.drop(cols[idx],1)\n",
    "\n",
    "\n"
   ]
  },
  {
   "cell_type": "code",
   "execution_count": 263,
   "metadata": {
    "collapsed": false
   },
   "outputs": [
    {
     "data": {
      "text/plain": [
       "KNeighborsClassifier(algorithm='auto', leaf_size=30, metric='minkowski',\n",
       "           metric_params=None, n_jobs=1, n_neighbors=10, p=2,\n",
       "           weights='uniform')"
      ]
     },
     "execution_count": 263,
     "metadata": {},
     "output_type": "execute_result"
    }
   ],
   "source": [
    "neigh = KNeighborsClassifier(n_neighbors=10 )\n",
    "neigh.fit(train_data, train_results) "
   ]
  },
  {
   "cell_type": "code",
   "execution_count": 264,
   "metadata": {
    "collapsed": false
   },
   "outputs": [
    {
     "data": {
      "text/plain": [
       "0.9882352941176471"
      ]
     },
     "execution_count": 264,
     "metadata": {},
     "output_type": "execute_result"
    }
   ],
   "source": [
    "predicted = neigh.predict(test_data)\n",
    "# accuracy_score(predicted,test_results)\n",
    "neigh.score(test_data,test_results)\n",
    "\n",
    "# print(homogeneity_score(predicted,test_results))\n",
    "# print(completeness_score(predicted,test_results))\n",
    "# print(v_measure_score(predicted,test_results))\n"
   ]
  },
  {
   "cell_type": "code",
   "execution_count": null,
   "metadata": {
    "collapsed": true
   },
   "outputs": [],
   "source": []
  },
  {
   "cell_type": "code",
   "execution_count": null,
   "metadata": {
    "collapsed": true
   },
   "outputs": [],
   "source": []
  }
 ],
 "metadata": {
  "anaconda-cloud": {},
  "kernelspec": {
   "display_name": "Python [default]",
   "language": "python",
   "name": "python3"
  },
  "language_info": {
   "codemirror_mode": {
    "name": "ipython",
    "version": 3
   },
   "file_extension": ".py",
   "mimetype": "text/x-python",
   "name": "python",
   "nbconvert_exporter": "python",
   "pygments_lexer": "ipython3",
   "version": "3.5.2"
  }
 },
 "nbformat": 4,
 "nbformat_minor": 1
}
