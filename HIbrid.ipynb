{
 "cells": [
  {
   "cell_type": "code",
   "execution_count": 1,
   "metadata": {
    "collapsed": false
   },
   "outputs": [],
   "source": [
    "import sys\n",
    "import pandas as pd\n",
    "import sklearn\n",
    "from sklearn.cross_validation import train_test_split\n",
    "from sklearn.naive_bayes import GaussianNB\n",
    "from sklearn.metrics import homogeneity_score,completeness_score,v_measure_score,accuracy_score\n",
    "from sklearn.ensemble import ExtraTreesClassifier\n",
    "from sklearn.linear_model import LogisticRegression\n",
    "from sklearn.preprocessing import MinMaxScaler\n",
    "from copy import deepcopy\n",
    "from sklearn.neighbors import KNeighborsClassifier\n",
    "from sklearn.ensemble import VotingClassifier\n",
    "from sklearn.svm import SVC\n",
    "\n",
    "from sklearn.feature_selection import RFE\n",
    "\n",
    "TRAIN_TEST_RATIO = 0.25"
   ]
  },
  {
   "cell_type": "code",
   "execution_count": null,
   "metadata": {
    "collapsed": true
   },
   "outputs": [],
   "source": []
  },
  {
   "cell_type": "code",
   "execution_count": 2,
   "metadata": {
    "collapsed": false
   },
   "outputs": [
    {
     "name": "stdout",
     "output_type": "stream",
     "text": [
      "358\n",
      "338\n"
     ]
    },
    {
     "data": {
      "text/plain": [
       "0    2\n",
       "1    1\n",
       "2    3\n",
       "3    1\n",
       "4    3\n",
       "Name: des_class, dtype: int64"
      ]
     },
     "execution_count": 2,
     "metadata": {},
     "output_type": "execute_result"
    }
   ],
   "source": [
    "\n",
    "data = pd.read_csv('dermatology.data.txt', sep=\",\", header = None)\n",
    "\n",
    "# [1-11,34] podaci pre analiza\n",
    "# [12-33] podaci nakon analiza\n",
    "data.columns = cols = [\"erythema\", \"scaling\", \"definite borders\", \"itching\",\"koebner phenomenon\",\n",
    "                \"polygonal papules\",\"follicular papules\",\"oral mucosal involvement\",\"knee and elbow involvement\",\n",
    "                \"scalp involvement\",\"family history\",\"melanin incontinence\",\"eosinophils in the infiltrate\",\"PNL infiltrate\",\n",
    "                \"fibrosis of the papillary dermis\",\"exocytosis\",\"acanthosis\",\"hyperkeratosis\",\"parakeratosis\",\"clubbing of the rete ridges\",\n",
    "               \"elongation of the rete ridges\",\"thinning of the suprapapillary epidermis\",\"spongiform pustule\",\"munro microabcess\",\"focal hypergranulosis\",\n",
    "               \"disappearance of the granular layer\",\"vacuolisation and damage of basal layer\",\"spongiosis\",\"saw-tooth appearance of retes\",\"follicular horn plug\",\n",
    "               \"perifollicular parakeratosis\",\"inflammatory monoluclear inflitrate\",\"band-like infiltrate\",\"Age\",\"des_class\"]\n",
    "\n",
    "# data.head()\n",
    "\n",
    "#izbaciti redove koje sadrze '?' u koloni za godine\n",
    "# print(len(data))\n",
    "data = data[data.Age != '?']\n",
    "print(len(data))\n",
    "data = data[data.des_class != 6]\n",
    "print(len(data))\n",
    "\n",
    "#izbaciti godine za probu\n",
    "\n",
    "# data = data.drop('Age',1)\n",
    "\n",
    "\n",
    "results = data['des_class']\n",
    "\n",
    "#normalize\n",
    "\n",
    "\n",
    "\n",
    "\n",
    "cols = data.columns\n",
    "\n",
    "min_max_scaler = MinMaxScaler()\n",
    "np_scaled = min_max_scaler.fit_transform(data)\n",
    "data = pd.DataFrame(np_scaled)\n",
    "\n",
    "\n",
    "data.columns = cols\n",
    "\n",
    "attributes = data.drop('des_class',1)\n",
    "results.head()\n",
    "# print(attributes[attributes.columns[1]])\n",
    "# attributes.head()\n",
    "# print(len(results))"
   ]
  },
  {
   "cell_type": "code",
   "execution_count": 3,
   "metadata": {
    "collapsed": false
   },
   "outputs": [
    {
     "name": "stdout",
     "output_type": "stream",
     "text": [
      "253 - 85\n"
     ]
    }
   ],
   "source": [
    "\n",
    "train_data, test_data,train_results,test_results = train_test_split(attributes, results ,test_size=TRAIN_TEST_RATIO)\n",
    "\n",
    "\n",
    "print('%d - %d' % (len(train_results), len(test_results)))\n"
   ]
  },
  {
   "cell_type": "code",
   "execution_count": 4,
   "metadata": {
    "collapsed": false
   },
   "outputs": [
    {
     "name": "stdout",
     "output_type": "stream",
     "text": [
      "[  4.35276875e-03   1.23560306e-02   8.01200556e-03   1.64915794e-02\n",
      "   3.80793902e-02   3.20799622e-02   1.75367423e-03   2.96678610e-02\n",
      "   2.11807521e-02   2.00478903e-02   2.13222294e-03   3.45767069e-02\n",
      "   6.74981900e-03   2.05462559e-02   5.80737102e-02   2.76374836e-02\n",
      "   5.00536833e-03   3.09013139e-03   8.41258694e-03   7.34198486e-02\n",
      "   5.84399018e-02   6.64831917e-02   7.10505098e-03   1.61268284e-02\n",
      "   3.62320027e-02   2.25380476e-02   3.80107586e-02   5.72839284e-02\n",
      "   3.83263714e-02   5.21670812e-04   2.45530168e-05   2.54844209e-03\n",
      "   4.58934673e-02   2.41730266e-03   1.84382435e-01]\n",
      "10\n",
      "[False False False False  True  True False False False False False False\n",
      " False False  True False False False False  True  True  True False False\n",
      " False False False  True  True False False False  True False  True]\n",
      "[16  5 14  2  1  1 21  8 10 12 24  9 13  3  1  6 15 23 22  1  1  1 19 17 11\n",
      "  7  4  1  1 25 26 18  1 20  1]\n",
      "35\n"
     ]
    }
   ],
   "source": [
    "#izbaciti atrbiute dobijene biopsijom\n",
    "# for i in range(12,33):\n",
    "#     train_data = train_data.drop(cols[i],1)\n",
    "#     test_data = test_data.drop(cols[i],1)\n",
    "\n",
    "# naci najbitinije feature\n",
    "model = ExtraTreesClassifier(n_estimators=250)\n",
    "model.fit(data, results)\n",
    "print(model.feature_importances_)\n",
    "# cols = deepcopy(train_data.columns)\n",
    "# print(len(cols))\n",
    "# for idx,elem in enumerate(model.feature_importances_):\n",
    "    \n",
    "#     if float(elem) < float(0.01):\n",
    "#         print(cols[idx])\n",
    "       \n",
    "#         train_data = train_data.drop(cols[idx],1)\n",
    "#         test_data = test_data.drop(cols[idx],1)\n",
    "\n",
    "\n",
    "model = LogisticRegression()\n",
    "rfe = RFE(model, 10)\n",
    "fit = rfe.fit(data, results)\n",
    "print(fit.n_features_)\n",
    "print(fit.support_)\n",
    "print(fit.ranking_)\n",
    "\n",
    "cols = deepcopy(data.columns)\n",
    "\n",
    "print(len(cols))\n",
    "\n",
    "# for idx,elem in enumerate(fit.support_):\n",
    "    \n",
    "#     if not elem:\n",
    "#         print(elem) \n",
    "#         print(idx)\n",
    "#         print(cols[idx])\n",
    "       \n",
    "#         train_data = train_data.drop(cols[idx],1)\n",
    "#         test_data = test_data.drop(cols[idx],1)\n",
    "\n",
    "\n"
   ]
  },
  {
   "cell_type": "code",
   "execution_count": 9,
   "metadata": {
    "collapsed": false
   },
   "outputs": [
    {
     "data": {
      "text/plain": [
       "VotingClassifier(estimators=[('kmeans', SVC(C=1.0, cache_size=200, class_weight=None, coef0=0.0,\n",
       "  decision_function_shape=None, degree=3, gamma='auto', kernel='rbf',\n",
       "  max_iter=-1, probability=True, random_state=None, shrinking=True,\n",
       "  tol=0.001, verbose=False)), ('neigh', KNeighborsClassifier(algorithm='auto', leaf_size=30, metric='minkowski',\n",
       "           metric_params=None, n_jobs=1, n_neighbors=10, p=2,\n",
       "           weights='uniform')), ('gnb', GaussianNB())],\n",
       "         voting='soft', weights=[1, 1, 1])"
      ]
     },
     "execution_count": 9,
     "metadata": {},
     "output_type": "execute_result"
    }
   ],
   "source": [
    "kmeans = SVC(kernel='rbf', probability=True)\n",
    "neigh = KNeighborsClassifier(n_neighbors=10)\n",
    "gnb = GaussianNB()\n",
    "\n",
    "\n",
    "\n",
    "vclf = VotingClassifier(estimators=[('kmeans', kmeans), ('neigh', neigh), ('gnb', gnb)], voting='soft',\n",
    "                        weights=[1,1,1])\n",
    "vclf.fit(train_data,train_results)"
   ]
  },
  {
   "cell_type": "code",
   "execution_count": 10,
   "metadata": {
    "collapsed": false
   },
   "outputs": [
    {
     "name": "stdout",
     "output_type": "stream",
     "text": [
      "0.952941176471\n",
      "[[33  0  0  0  0]\n",
      " [ 0 12  0  4  0]\n",
      " [ 0  0 15  0  0]\n",
      " [ 0  0  0 12  0]\n",
      " [ 0  0  0  0  9]]\n"
     ]
    }
   ],
   "source": [
    "predicted = vclf.predict(test_data)\n",
    "\n",
    "print(accuracy_score(predicted,test_results))\n",
    "\n",
    "\n",
    "import sklearn.metrics as sm\n",
    "print(sm.confusion_matrix(test_results,predicted))\n",
    "\n"
   ]
  },
  {
   "cell_type": "code",
   "execution_count": null,
   "metadata": {
    "collapsed": true
   },
   "outputs": [],
   "source": []
  },
  {
   "cell_type": "code",
   "execution_count": null,
   "metadata": {
    "collapsed": true
   },
   "outputs": [],
   "source": []
  }
 ],
 "metadata": {
  "anaconda-cloud": {},
  "kernelspec": {
   "display_name": "Python [default]",
   "language": "python",
   "name": "python3"
  },
  "language_info": {
   "codemirror_mode": {
    "name": "ipython",
    "version": 3
   },
   "file_extension": ".py",
   "mimetype": "text/x-python",
   "name": "python",
   "nbconvert_exporter": "python",
   "pygments_lexer": "ipython3",
   "version": "3.5.2"
  }
 },
 "nbformat": 4,
 "nbformat_minor": 1
}
