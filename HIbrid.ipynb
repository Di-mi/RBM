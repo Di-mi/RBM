{
 "cells": [
  {
   "cell_type": "code",
   "execution_count": 1,
   "metadata": {
    "collapsed": false
   },
   "outputs": [],
   "source": [
    "import sys\n",
    "import pandas as pd\n",
    "import sklearn\n",
    "from sklearn.cross_validation import train_test_split\n",
    "from sklearn.naive_bayes import GaussianNB\n",
    "from sklearn.metrics import homogeneity_score,completeness_score,v_measure_score,accuracy_score\n",
    "from sklearn.ensemble import ExtraTreesClassifier\n",
    "from sklearn.linear_model import LogisticRegression\n",
    "from sklearn.preprocessing import MinMaxScaler\n",
    "from copy import deepcopy\n",
    "from sklearn.neighbors import KNeighborsClassifier\n",
    "from sklearn.ensemble import VotingClassifier\n",
    "from sklearn.svm import SVC\n",
    "\n",
    "from sklearn.feature_selection import RFE\n",
    "\n",
    "TRAIN_TEST_RATIO = 0.25"
   ]
  },
  {
   "cell_type": "code",
   "execution_count": null,
   "metadata": {
    "collapsed": true
   },
   "outputs": [],
   "source": []
  },
  {
   "cell_type": "code",
   "execution_count": 2,
   "metadata": {
    "collapsed": false
   },
   "outputs": [
    {
     "name": "stdout",
     "output_type": "stream",
     "text": [
      "358\n",
      "338\n"
     ]
    },
    {
     "data": {
      "text/plain": [
       "0    2\n",
       "1    1\n",
       "2    3\n",
       "3    1\n",
       "4    3\n",
       "Name: des_class, dtype: int64"
      ]
     },
     "execution_count": 2,
     "metadata": {},
     "output_type": "execute_result"
    }
   ],
   "source": [
    "\n",
    "data = pd.read_csv('dermatology.data.txt', sep=\",\", header = None)\n",
    "\n",
    "# [1-11,34] podaci pre analiza\n",
    "# [12-33] podaci nakon analiza\n",
    "data.columns = cols = [\"erythema\", \"scaling\", \"definite borders\", \"itching\",\"koebner phenomenon\",\n",
    "                \"polygonal papules\",\"follicular papules\",\"oral mucosal involvement\",\"knee and elbow involvement\",\n",
    "                \"scalp involvement\",\"family history\",\"melanin incontinence\",\"eosinophils in the infiltrate\",\"PNL infiltrate\",\n",
    "                \"fibrosis of the papillary dermis\",\"exocytosis\",\"acanthosis\",\"hyperkeratosis\",\"parakeratosis\",\"clubbing of the rete ridges\",\n",
    "               \"elongation of the rete ridges\",\"thinning of the suprapapillary epidermis\",\"spongiform pustule\",\"munro microabcess\",\"focal hypergranulosis\",\n",
    "               \"disappearance of the granular layer\",\"vacuolisation and damage of basal layer\",\"spongiosis\",\"saw-tooth appearance of retes\",\"follicular horn plug\",\n",
    "               \"perifollicular parakeratosis\",\"inflammatory monoluclear inflitrate\",\"band-like infiltrate\",\"Age\",\"des_class\"]\n",
    "\n",
    "# data.head()\n",
    "\n",
    "#izbaciti redove koje sadrze '?' u koloni za godine\n",
    "# print(len(data))\n",
    "data = data[data.Age != '?']\n",
    "print(len(data))\n",
    "data = data[data.des_class != 6]\n",
    "print(len(data))\n",
    "\n",
    "#izbaciti godine za probu\n",
    "\n",
    "# data = data.drop('Age',1)\n",
    "\n",
    "\n",
    "results = data['des_class']\n",
    "\n",
    "#normalize\n",
    "\n",
    "\n",
    "\n",
    "\n",
    "cols = data.columns\n",
    "\n",
    "min_max_scaler = MinMaxScaler()\n",
    "np_scaled = min_max_scaler.fit_transform(data)\n",
    "data = pd.DataFrame(np_scaled)\n",
    "\n",
    "\n",
    "data.columns = cols\n",
    "\n",
    "attributes = data.drop('des_class',1)\n",
    "results.head()\n",
    "# print(attributes[attributes.columns[1]])\n",
    "# attributes.head()\n",
    "# print(len(results))"
   ]
  },
  {
   "cell_type": "code",
   "execution_count": 3,
   "metadata": {
    "collapsed": false
   },
   "outputs": [
    {
     "name": "stdout",
     "output_type": "stream",
     "text": [
      "253 - 85\n"
     ]
    }
   ],
   "source": [
    "\n",
    "train_data, test_data,train_results,test_results = train_test_split(attributes, results ,test_size=TRAIN_TEST_RATIO)\n",
    "\n",
    "\n",
    "print('%d - %d' % (len(train_results), len(test_results)))\n"
   ]
  },
  {
   "cell_type": "code",
   "execution_count": 4,
   "metadata": {
    "collapsed": false
   },
   "outputs": [
    {
     "name": "stdout",
     "output_type": "stream",
     "text": [
      "[  5.53504635e-03   1.23007509e-02   9.55746336e-03   1.66815529e-02\n",
      "   3.19384199e-02   3.71729575e-02   1.68359698e-03   2.19937594e-02\n",
      "   2.53839277e-02   1.59659107e-02   2.26897858e-03   3.16334120e-02\n",
      "   7.44390750e-03   2.56875855e-02   5.89063653e-02   2.56571661e-02\n",
      "   4.17989970e-03   2.87965601e-03   9.50744763e-03   7.44934387e-02\n",
      "   6.61281313e-02   5.06828158e-02   3.83445461e-03   1.53408517e-02\n",
      "   3.24036483e-02   1.88260189e-02   4.73269435e-02   5.19369615e-02\n",
      "   3.18135707e-02   2.87104699e-04   6.29010729e-05   2.44019786e-03\n",
      "   4.20822566e-02   2.54745212e-03   2.13415448e-01]\n",
      "10\n",
      "[False False False False  True  True False False False False False False\n",
      " False False  True False False False False  True  True  True False False\n",
      " False False False  True  True False False False  True False  True]\n",
      "[16  5 14  2  1  1 21  8 10 12 24  9 13  3  1  6 15 23 22  1  1  1 19 17 11\n",
      "  7  4  1  1 25 26 18  1 20  1]\n",
      "35\n"
     ]
    }
   ],
   "source": [
    "#izbaciti atrbiute dobijene biopsijom\n",
    "# for i in range(12,33):\n",
    "#     train_data = train_data.drop(cols[i],1)\n",
    "#     test_data = test_data.drop(cols[i],1)\n",
    "\n",
    "# naci najbitinije feature\n",
    "model = ExtraTreesClassifier(n_estimators=250)\n",
    "model.fit(data, results)\n",
    "print(model.feature_importances_)\n",
    "# cols = deepcopy(train_data.columns)\n",
    "# print(len(cols))\n",
    "# for idx,elem in enumerate(model.feature_importances_):\n",
    "    \n",
    "#     if float(elem) < float(0.01):\n",
    "#         print(cols[idx])\n",
    "       \n",
    "#         train_data = train_data.drop(cols[idx],1)\n",
    "#         test_data = test_data.drop(cols[idx],1)\n",
    "\n",
    "\n",
    "model = LogisticRegression()\n",
    "rfe = RFE(model, 10)\n",
    "fit = rfe.fit(data, results)\n",
    "print(fit.n_features_)\n",
    "print(fit.support_)\n",
    "print(fit.ranking_)\n",
    "\n",
    "cols = deepcopy(data.columns)\n",
    "\n",
    "print(len(cols))\n",
    "\n",
    "# for idx,elem in enumerate(fit.support_):\n",
    "    \n",
    "#     if not elem:\n",
    "#         print(elem) \n",
    "#         print(idx)\n",
    "#         print(cols[idx])\n",
    "       \n",
    "#         train_data = train_data.drop(cols[idx],1)\n",
    "#         test_data = test_data.drop(cols[idx],1)\n",
    "\n",
    "\n"
   ]
  },
  {
   "cell_type": "code",
   "execution_count": 7,
   "metadata": {
    "collapsed": false
   },
   "outputs": [
    {
     "data": {
      "text/plain": [
       "GaussianNB()"
      ]
     },
     "execution_count": 7,
     "metadata": {},
     "output_type": "execute_result"
    }
   ],
   "source": [
    "kmeans = SVC(kernel='rbf', probability=True)\n",
    "neigh = KNeighborsClassifier(n_neighbors=10)\n",
    "gnb = GaussianNB()\n",
    "\n",
    "kmeans.fit(train_data,train_results)\n",
    "neigh.fit(train_data,train_results)\n",
    "gnb.fit(train_data,train_results)\n",
    "\n",
    "# vclf = VotingClassifier(estimators=[('kmeans', kmeans), ('neigh', neigh), ('gnb', gnb)], voting='soft',\n",
    "#                         weights=[1,1,1])\n",
    "# vclf.fit(train_data,train_results)"
   ]
  },
  {
   "cell_type": "code",
   "execution_count": 8,
   "metadata": {
    "collapsed": false
   },
   "outputs": [
    {
     "name": "stdout",
     "output_type": "stream",
     "text": [
      "[[32  0  0  0  0]\n",
      " [ 0 10  0  0  0]\n",
      " [ 0  0 19  0  0]\n",
      " [ 0 10  0  4  0]\n",
      " [ 0  0  0  0 10]]\n",
      "[[32  0  0  0  0]\n",
      " [ 0  9  0  1  0]\n",
      " [ 0  0 19  0  0]\n",
      " [ 0  2  0 12  0]\n",
      " [ 0  0  0  0 10]]\n",
      "[[32  0  0  0  0]\n",
      " [ 0  3  0  6  1]\n",
      " [ 0  0 19  0  0]\n",
      " [ 0  0  0 14  0]\n",
      " [ 0  0  0  0 10]]\n"
     ]
    }
   ],
   "source": [
    "# predicted = vclf.predict(test_data)\n",
    "pred1 = kmeans.predict(test_data)\n",
    "pred2 = neigh.predict(test_data)\n",
    "pred3 = gnb.predict(test_data)\n",
    "# print(accuracy_score(predicted,test_results))\n",
    "\n",
    "\n",
    "import sklearn.metrics as sm\n",
    "# print(sm.confusion_matrix(test_results,predicted))\n",
    "print(sm.confusion_matrix(test_results,pred1))\n",
    "print(sm.confusion_matrix(test_results,pred2))\n",
    "print(sm.confusion_matrix(test_results,pred3))\n"
   ]
  },
  {
   "cell_type": "code",
   "execution_count": null,
   "metadata": {
    "collapsed": true
   },
   "outputs": [],
   "source": []
  },
  {
   "cell_type": "code",
   "execution_count": null,
   "metadata": {
    "collapsed": true
   },
   "outputs": [],
   "source": []
  }
 ],
 "metadata": {
  "anaconda-cloud": {},
  "kernelspec": {
   "display_name": "Python [default]",
   "language": "python",
   "name": "python3"
  },
  "language_info": {
   "codemirror_mode": {
    "name": "ipython",
    "version": 3
   },
   "file_extension": ".py",
   "mimetype": "text/x-python",
   "name": "python",
   "nbconvert_exporter": "python",
   "pygments_lexer": "ipython3",
   "version": "3.5.2"
  }
 },
 "nbformat": 4,
 "nbformat_minor": 1
}
