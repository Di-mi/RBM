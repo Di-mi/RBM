{
 "cells": [
  {
   "cell_type": "code",
   "execution_count": 55,
   "metadata": {
    "collapsed": false
   },
   "outputs": [],
   "source": [
    "import sys\n",
    "import pandas as pd\n",
    "import sklearn\n",
    "from sklearn.cross_validation import train_test_split\n",
    "from sklearn.cluster import KMeans\n",
    "from sklearn.metrics import homogeneity_score,completeness_score,v_measure_score\n",
    "from sklearn.ensemble import ExtraTreesClassifier\n",
    "from sklearn.linear_model import LogisticRegression\n",
    "from sklearn.preprocessing import MinMaxScaler\n",
    "from copy import deepcopy\n",
    "\n",
    "from sklearn.feature_selection import RFE\n",
    "\n",
    "TRAIN_TEST_RATIO = 0.25"
   ]
  },
  {
   "cell_type": "code",
   "execution_count": 56,
   "metadata": {
    "collapsed": false
   },
   "outputs": [
    {
     "name": "stdout",
     "output_type": "stream",
     "text": [
      "358\n",
      "338\n"
     ]
    },
    {
     "data": {
      "text/plain": [
       "0    2\n",
       "1    1\n",
       "2    3\n",
       "3    1\n",
       "4    3\n",
       "Name: des_class, dtype: int64"
      ]
     },
     "execution_count": 56,
     "metadata": {},
     "output_type": "execute_result"
    }
   ],
   "source": [
    "\n",
    "data = pd.read_csv('dermatology.data.txt', sep=\",\", header = None)\n",
    "\n",
    "# [1-11,34] podaci pre analiza\n",
    "# [12-33] podaci nakon analiza\n",
    "data.columns = cols = [\"erythema\", \"scaling\", \"definite borders\", \"itching\",\"koebner phenomenon\",\n",
    "                \"polygonal papules\",\"follicular papules\",\"oral mucosal involvement\",\"knee and elbow involvement\",\n",
    "                \"scalp involvement\",\"family history\",\"melanin incontinence\",\"eosinophils in the infiltrate\",\"PNL infiltrate\",\n",
    "                \"fibrosis of the papillary dermis\",\"exocytosis\",\"acanthosis\",\"hyperkeratosis\",\"parakeratosis\",\"clubbing of the rete ridges\",\n",
    "               \"elongation of the rete ridges\",\"thinning of the suprapapillary epidermis\",\"spongiform pustule\",\"munro microabcess\",\"focal hypergranulosis\",\n",
    "               \"disappearance of the granular layer\",\"vacuolisation and damage of basal layer\",\"spongiosis\",\"saw-tooth appearance of retes\",\"follicular horn plug\",\n",
    "               \"perifollicular parakeratosis\",\"inflammatory monoluclear inflitrate\",\"band-like infiltrate\",\"Age\",\"des_class\"]\n",
    "\n",
    "# data.head()\n",
    "\n",
    "#izbaciti redove koje sadrze '?' u koloni za godine\n",
    "# print(len(data))\n",
    "data = data[data.Age != '?']\n",
    "print(len(data))\n",
    "data = data[data.des_class != 6]\n",
    "print(len(data))\n",
    "\n",
    "#izbaciti godine za probu\n",
    "\n",
    "# data = data.drop('Age',1)\n",
    "\n",
    "\n",
    "results = data['des_class']\n",
    "\n",
    "#normalize\n",
    "\n",
    "\n",
    "\n",
    "\n",
    "cols = data.columns\n",
    "\n",
    "min_max_scaler = MinMaxScaler()\n",
    "np_scaled = min_max_scaler.fit_transform(data)\n",
    "data = pd.DataFrame(np_scaled)\n",
    "\n",
    "\n",
    "data.columns = cols\n",
    "\n",
    "attributes = data.drop('des_class',1)\n",
    "results.head()\n",
    "# print(attributes[attributes.columns[1]])\n",
    "# attributes.head()\n",
    "# print(len(results))"
   ]
  },
  {
   "cell_type": "code",
   "execution_count": 57,
   "metadata": {
    "collapsed": false
   },
   "outputs": [
    {
     "name": "stdout",
     "output_type": "stream",
     "text": [
      "253 - 85\n"
     ]
    }
   ],
   "source": [
    "\n",
    "train_data, test_data,train_results,test_results = train_test_split(attributes, results ,test_size=TRAIN_TEST_RATIO)\n",
    "\n",
    "\n",
    "print('%d - %d' % (len(train_results), len(test_results)))\n"
   ]
  },
  {
   "cell_type": "code",
   "execution_count": 58,
   "metadata": {
    "collapsed": false
   },
   "outputs": [
    {
     "name": "stdout",
     "output_type": "stream",
     "text": [
      "[  4.94728349e-03   9.87368852e-03   1.24012830e-02   1.60621677e-02\n",
      "   3.04420837e-02   3.58082181e-02   1.92818226e-03   2.51674646e-02\n",
      "   2.48761139e-02   2.61917143e-02   1.85057162e-03   3.53796732e-02\n",
      "   7.22383763e-03   2.59601553e-02   5.30088680e-02   3.03323679e-02\n",
      "   4.74552603e-03   3.31876880e-03   6.89644939e-03   6.41506867e-02\n",
      "   6.48097325e-02   6.19069677e-02   5.44049191e-03   1.60615296e-02\n",
      "   3.28794795e-02   1.87504955e-02   3.80581240e-02   5.11317374e-02\n",
      "   4.53365311e-02   2.22628475e-04   6.79142678e-05   3.32338010e-03\n",
      "   4.02352902e-02   2.47697679e-03   1.98733617e-01]\n",
      "10\n",
      "[False False False False  True  True False False False False False False\n",
      " False False  True False False False False  True  True  True False False\n",
      " False False False  True  True False False False  True False  True]\n",
      "[16  5 14  2  1  1 21  8 10 12 24  9 13  3  1  6 15 23 22  1  1  1 19 17 11\n",
      "  7  4  1  1 25 26 18  1 20  1]\n",
      "35\n",
      "False\n",
      "0\n",
      "erythema\n",
      "False\n",
      "1\n",
      "scaling\n",
      "False\n",
      "2\n",
      "definite borders\n",
      "False\n",
      "3\n",
      "itching\n",
      "False\n",
      "6\n",
      "follicular papules\n",
      "False\n",
      "7\n",
      "oral mucosal involvement\n",
      "False\n",
      "8\n",
      "knee and elbow involvement\n",
      "False\n",
      "9\n",
      "scalp involvement\n",
      "False\n",
      "10\n",
      "family history\n",
      "False\n",
      "11\n",
      "melanin incontinence\n",
      "False\n",
      "12\n",
      "eosinophils in the infiltrate\n",
      "False\n",
      "13\n",
      "PNL infiltrate\n",
      "False\n",
      "15\n",
      "exocytosis\n",
      "False\n",
      "16\n",
      "acanthosis\n",
      "False\n",
      "17\n",
      "hyperkeratosis\n",
      "False\n",
      "18\n",
      "parakeratosis\n",
      "False\n",
      "22\n",
      "spongiform pustule\n",
      "False\n",
      "23\n",
      "munro microabcess\n",
      "False\n",
      "24\n",
      "focal hypergranulosis\n",
      "False\n",
      "25\n",
      "disappearance of the granular layer\n",
      "False\n",
      "26\n",
      "vacuolisation and damage of basal layer\n",
      "False\n",
      "29\n",
      "follicular horn plug\n",
      "False\n",
      "30\n",
      "perifollicular parakeratosis\n",
      "False\n",
      "31\n",
      "inflammatory monoluclear inflitrate\n",
      "False\n",
      "33\n",
      "Age\n"
     ]
    }
   ],
   "source": [
    "\n",
    "# naci najbitinije feature\n",
    "model = ExtraTreesClassifier(n_estimators=250)\n",
    "model.fit(data, results)\n",
    "print(model.feature_importances_)\n",
    "# cols = deepcopy(train_data.columns)\n",
    "# print(len(cols))\n",
    "# for idx,elem in enumerate(model.feature_importances_):\n",
    "    \n",
    "#     if float(elem) < float(0.01):\n",
    "#         print(cols[idx])\n",
    "       \n",
    "#         train_data = train_data.drop(cols[idx],1)\n",
    "#         test_data = test_data.drop(cols[idx],1)\n",
    "\n",
    "\n",
    "model = LogisticRegression()\n",
    "rfe = RFE(model, 10)\n",
    "fit = rfe.fit(data, results)\n",
    "print(fit.n_features_)\n",
    "print(fit.support_)\n",
    "print(fit.ranking_)\n",
    "\n",
    "cols = deepcopy(data.columns)\n",
    "\n",
    "print(len(cols))\n",
    "\n",
    "for idx,elem in enumerate(fit.support_):\n",
    "    \n",
    "    if not elem:\n",
    "        print(elem)\n",
    "        print(idx)\n",
    "        print(cols[idx])\n",
    "       \n",
    "        train_data = train_data.drop(cols[idx],1)\n",
    "        test_data = test_data.drop(cols[idx],1)\n",
    "\n",
    "\n"
   ]
  },
  {
   "cell_type": "code",
   "execution_count": null,
   "metadata": {
    "collapsed": false
   },
   "outputs": [],
   "source": []
  },
  {
   "cell_type": "code",
   "execution_count": 59,
   "metadata": {
    "collapsed": true
   },
   "outputs": [],
   "source": [
    "kmeans = KMeans(n_clusters=5, random_state=0).fit(train_data,train_results)\n"
   ]
  },
  {
   "cell_type": "code",
   "execution_count": 60,
   "metadata": {
    "collapsed": false
   },
   "outputs": [
    {
     "name": "stdout",
     "output_type": "stream",
     "text": [
      "0.895434959676\n",
      "0.845977883258\n",
      "0.870004117467\n"
     ]
    }
   ],
   "source": [
    "predicted = kmeans.predict(test_data)\n",
    "\n",
    "\n",
    "print(homogeneity_score(predicted,test_results))\n",
    "print(completeness_score(predicted,test_results))\n",
    "print(v_measure_score(predicted,test_results))\n"
   ]
  },
  {
   "cell_type": "code",
   "execution_count": null,
   "metadata": {
    "collapsed": true
   },
   "outputs": [],
   "source": []
  }
 ],
 "metadata": {
  "anaconda-cloud": {},
  "kernelspec": {
   "display_name": "Python [default]",
   "language": "python",
   "name": "python3"
  },
  "language_info": {
   "codemirror_mode": {
    "name": "ipython",
    "version": 3
   },
   "file_extension": ".py",
   "mimetype": "text/x-python",
   "name": "python",
   "nbconvert_exporter": "python",
   "pygments_lexer": "ipython3",
   "version": "3.5.2"
  }
 },
 "nbformat": 4,
 "nbformat_minor": 1
}
