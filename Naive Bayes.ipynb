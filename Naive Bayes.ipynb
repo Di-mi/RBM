{
 "cells": [
  {
   "cell_type": "code",
   "execution_count": 169,
   "metadata": {
    "collapsed": false
   },
   "outputs": [],
   "source": [
    "import sys\n",
    "import pandas as pd\n",
    "import sklearn\n",
    "from sklearn.cross_validation import train_test_split\n",
    "from sklearn.naive_bayes import GaussianNB\n",
    "from sklearn.metrics import homogeneity_score,completeness_score,v_measure_score,accuracy_score\n",
    "from sklearn.ensemble import ExtraTreesClassifier\n",
    "from sklearn.linear_model import LogisticRegression\n",
    "from sklearn.preprocessing import MinMaxScaler\n",
    "from copy import deepcopy\n",
    "\n",
    "from sklearn.feature_selection import RFE\n",
    "\n",
    "TRAIN_TEST_RATIO = 0.25"
   ]
  },
  {
   "cell_type": "code",
   "execution_count": 170,
   "metadata": {
    "collapsed": false
   },
   "outputs": [
    {
     "name": "stdout",
     "output_type": "stream",
     "text": [
      "358\n",
      "338\n"
     ]
    },
    {
     "data": {
      "text/plain": [
       "0    2\n",
       "1    1\n",
       "2    3\n",
       "3    1\n",
       "4    3\n",
       "Name: des_class, dtype: int64"
      ]
     },
     "execution_count": 170,
     "metadata": {},
     "output_type": "execute_result"
    }
   ],
   "source": [
    "\n",
    "data = pd.read_csv('dermatology.data.txt', sep=\",\", header = None)\n",
    "\n",
    "# [1-11,34] podaci pre analiza\n",
    "# [12-33] podaci nakon analiza\n",
    "data.columns = cols = [\"erythema\", \"scaling\", \"definite borders\", \"itching\",\"koebner phenomenon\",\n",
    "                \"polygonal papules\",\"follicular papules\",\"oral mucosal involvement\",\"knee and elbow involvement\",\n",
    "                \"scalp involvement\",\"family history\",\"melanin incontinence\",\"eosinophils in the infiltrate\",\"PNL infiltrate\",\n",
    "                \"fibrosis of the papillary dermis\",\"exocytosis\",\"acanthosis\",\"hyperkeratosis\",\"parakeratosis\",\"clubbing of the rete ridges\",\n",
    "               \"elongation of the rete ridges\",\"thinning of the suprapapillary epidermis\",\"spongiform pustule\",\"munro microabcess\",\"focal hypergranulosis\",\n",
    "               \"disappearance of the granular layer\",\"vacuolisation and damage of basal layer\",\"spongiosis\",\"saw-tooth appearance of retes\",\"follicular horn plug\",\n",
    "               \"perifollicular parakeratosis\",\"inflammatory monoluclear inflitrate\",\"band-like infiltrate\",\"Age\",\"des_class\"]\n",
    "\n",
    "# data.head()\n",
    "\n",
    "#izbaciti redove koje sadrze '?' u koloni za godine\n",
    "# print(len(data))\n",
    "data = data[data.Age != '?']\n",
    "print(len(data))\n",
    "data = data[data.des_class != 6]\n",
    "print(len(data))\n",
    "\n",
    "#izbaciti godine za probu\n",
    "\n",
    "# data = data.drop('Age',1)\n",
    "\n",
    "\n",
    "results = data['des_class']\n",
    "\n",
    "#normalize\n",
    "\n",
    "\n",
    "\n",
    "\n",
    "cols = data.columns\n",
    "\n",
    "min_max_scaler = MinMaxScaler()\n",
    "np_scaled = min_max_scaler.fit_transform(data)\n",
    "data = pd.DataFrame(np_scaled)\n",
    "\n",
    "\n",
    "data.columns = cols\n",
    "\n",
    "attributes = data.drop('des_class',1)\n",
    "results.head()\n",
    "# print(attributes[attributes.columns[1]])\n",
    "# attributes.head()\n",
    "# print(len(results))"
   ]
  },
  {
   "cell_type": "code",
   "execution_count": 171,
   "metadata": {
    "collapsed": false
   },
   "outputs": [
    {
     "name": "stdout",
     "output_type": "stream",
     "text": [
      "253 - 85\n"
     ]
    }
   ],
   "source": [
    "\n",
    "train_data, test_data,train_results,test_results = train_test_split(attributes, results ,test_size=TRAIN_TEST_RATIO)\n",
    "\n",
    "\n",
    "print('%d - %d' % (len(train_results), len(test_results)))\n"
   ]
  },
  {
   "cell_type": "code",
   "execution_count": 172,
   "metadata": {
    "collapsed": false
   },
   "outputs": [
    {
     "name": "stdout",
     "output_type": "stream",
     "text": [
      "[  4.59431642e-03   1.21246401e-02   8.60708931e-03   1.60717519e-02\n",
      "   3.59624985e-02   3.02859474e-02   1.60454411e-03   3.01270964e-02\n",
      "   2.32719755e-02   1.94446282e-02   2.25625249e-03   2.94065989e-02\n",
      "   5.98053483e-03   2.41747063e-02   5.76472454e-02   2.49687608e-02\n",
      "   4.72111243e-03   3.28844039e-03   9.73401499e-03   7.66036302e-02\n",
      "   6.20226800e-02   6.41398128e-02   4.10359089e-03   1.50973722e-02\n",
      "   2.16213686e-02   1.67084723e-02   4.31796908e-02   4.87391787e-02\n",
      "   4.21375216e-02   5.42028654e-04   5.64285055e-05   2.66793194e-03\n",
      "   4.89708425e-02   2.52747091e-03   2.06609825e-01]\n",
      "10\n",
      "[False False False False  True  True False False False False False False\n",
      " False False  True False False False False  True  True  True False False\n",
      " False False False  True  True False False False  True False  True]\n",
      "[16  5 14  2  1  1 21  8 10 12 24  9 13  3  1  6 15 23 22  1  1  1 19 17 11\n",
      "  7  4  1  1 25 26 18  1 20  1]\n",
      "35\n"
     ]
    }
   ],
   "source": [
    "\n",
    "\n",
    "# naci najbitinije feature\n",
    "model = ExtraTreesClassifier(n_estimators=250)\n",
    "model.fit(data, results)\n",
    "print(model.feature_importances_)\n",
    "# cols = deepcopy(train_data.columns)\n",
    "# print(len(cols))\n",
    "# for idx,elem in enumerate(model.feature_importances_):\n",
    "    \n",
    "#     if float(elem) < float(0.01):\n",
    "#         print(cols[idx])\n",
    "       \n",
    "#         train_data = train_data.drop(cols[idx],1)\n",
    "#         test_data = test_data.drop(cols[idx],1)\n",
    "\n",
    "\n",
    "model = LogisticRegression()\n",
    "rfe = RFE(model, 10)\n",
    "fit = rfe.fit(data, results)\n",
    "print(fit.n_features_)\n",
    "print(fit.support_)\n",
    "print(fit.ranking_)\n",
    "\n",
    "cols = deepcopy(data.columns)\n",
    "\n",
    "print(len(cols))\n",
    "\n",
    "# for idx,elem in enumerate(fit.support_):\n",
    "    \n",
    "#     if not elem:\n",
    "#         print(elem)\n",
    "#         print(idx)\n",
    "#         print(cols[idx])\n",
    "       \n",
    "#         train_data = train_data.drop(cols[idx],1)\n",
    "#         test_data = test_data.drop(cols[idx],1)\n",
    "\n",
    "\n"
   ]
  },
  {
   "cell_type": "code",
   "execution_count": 173,
   "metadata": {
    "collapsed": true
   },
   "outputs": [],
   "source": [
    "GNB = GaussianNB().fit(train_data,train_results)\n"
   ]
  },
  {
   "cell_type": "code",
   "execution_count": 174,
   "metadata": {
    "collapsed": false
   },
   "outputs": [
    {
     "data": {
      "text/plain": [
       "0.87058823529411766"
      ]
     },
     "execution_count": 174,
     "metadata": {},
     "output_type": "execute_result"
    }
   ],
   "source": [
    "predicted = GNB.predict(test_data)\n",
    "accuracy_score(predicted,test_results)\n",
    "\n",
    "\n",
    "# print(homogeneity_score(predicted,test_results))\n",
    "# print(completeness_score(predicted,test_results))\n",
    "# print(v_measure_score(predicted,test_results))\n"
   ]
  },
  {
   "cell_type": "code",
   "execution_count": null,
   "metadata": {
    "collapsed": true
   },
   "outputs": [],
   "source": []
  }
 ],
 "metadata": {
  "anaconda-cloud": {},
  "kernelspec": {
   "display_name": "Python [default]",
   "language": "python",
   "name": "python3"
  },
  "language_info": {
   "codemirror_mode": {
    "name": "ipython",
    "version": 3
   },
   "file_extension": ".py",
   "mimetype": "text/x-python",
   "name": "python",
   "nbconvert_exporter": "python",
   "pygments_lexer": "ipython3",
   "version": "3.5.2"
  }
 },
 "nbformat": 4,
 "nbformat_minor": 1
}
